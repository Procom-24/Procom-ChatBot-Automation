{
 "cells": [
  {
   "cell_type": "markdown",
   "metadata": {},
   "source": [
    "## A Walkthough for Document Vectorization\n",
    "Throughout this walkthrough, we will be using OpenAI embedding."
   ]
  },
  {
   "cell_type": "markdown",
   "metadata": {},
   "source": [
    "It is necessary to import all the required libraries. <br> \n",
    "You can install them by executing a command in the terminal.<br><br>\n",
    "``pip install -r reqirements.txt``"
   ]
  },
  {
   "cell_type": "code",
   "execution_count": 1,
   "metadata": {},
   "outputs": [
    {
     "name": "stderr",
     "output_type": "stream",
     "text": [
      "d:\\Dino\\X\\Procom\\Procom-ChatBot-Automation\\.venv\\Lib\\site-packages\\tqdm\\auto.py:21: TqdmWarning: IProgress not found. Please update jupyter and ipywidgets. See https://ipywidgets.readthedocs.io/en/stable/user_install.html\n",
      "  from .autonotebook import tqdm as notebook_tqdm\n"
     ]
    }
   ],
   "source": [
    "import chromadb\n",
    "import openai\n",
    "# import langchain\n",
    "from chromadb.utils import embedding_functions\n",
    "from langchain.document_loaders import TextLoader\n",
    "import os\n",
    "from typing import List"
   ]
  },
  {
   "cell_type": "markdown",
   "metadata": {},
   "source": [
    "Now, we'll introduce two functions for processing text from files.<br><br>\n",
    "<b>read_docx_as_single_page():</b> This function reads DOC files.<br>\n",
    "<b>read_pdf_as_single_page():</b> This function reads PDF files.<br><br>\n",
    "Each function takes the path of the file as a parameter."
   ]
  },
  {
   "cell_type": "code",
   "execution_count": 2,
   "metadata": {},
   "outputs": [],
   "source": [
    "from PyPDF2 import PdfReader\n",
    "import docx\n",
    "\n",
    "def read_docx_as_single_page(docx_path: str) -> str:\n",
    "    doc = docx.Document(docx_path)\n",
    "    text = \"\"\n",
    "    for paragraph in doc.paragraphs:\n",
    "        text += paragraph.text + \"\\n\"\n",
    "    return text\n",
    "\n",
    "\n",
    "def read_pdf_as_single_page(pdf_path: str) -> str:\n",
    "    with open(pdf_path, \"rb\") as f:\n",
    "        pdf_reader = PdfReader(f)\n",
    "        text = \"\"\n",
    "        for page_num in range(len(pdf_reader.pages)):\n",
    "            # Extract text from the current page and append it to the string\n",
    "            text += pdf_reader.pages[page_num].extract_text()\n",
    "        return text\n"
   ]
  },
  {
   "cell_type": "markdown",
   "metadata": {},
   "source": [
    "This section of the code processes files and creates a list of documents. We will assume all files are in the <b>\"procom_collection\"</b> folder."
   ]
  },
  {
   "cell_type": "code",
   "execution_count": 3,
   "metadata": {},
   "outputs": [],
   "source": [
    "folder_name = 'procom_collection'\n",
    "document = []\n",
    "metadata = []\n",
    "\n",
    "for file in os.listdir(folder_name):\n",
    "    # Get the file name for metadata.\n",
    "    file_name = file.split('.')[0]\n",
    "    metadata.append({\"competition\": file_name})\n",
    "    # If the file is a PDF then process it with \"read_pdf_as_single_page\".\n",
    "    # Elif the file is a PDF then process it with \"read_docx_as_single_page\".\n",
    "    # ELse process it with \"TextLoader\".\n",
    "    # Finally append the text string to the document list.\n",
    "    if file.endswith(\".pdf\"):\n",
    "        pdf_path = f\"./{folder_name}/\" + file\n",
    "        document.append(read_pdf_as_single_page(pdf_path))\n",
    "    elif file.endswith(\".docx\") or file.endswith(\".doc\"):\n",
    "        doc_path = f\"./{folder_name}/\" + file\n",
    "        document.append(read_docx_as_single_page(doc_path)) \n",
    "    elif file.endswith(\".txt\"):\n",
    "        txt_path = f\"./{folder_name}/\" + file\n",
    "        loader = TextLoader(txt_path)\n",
    "        document.append(loader.load()) \n",
    "\n",
    "# print(document)\n",
    "# print(metadata)"
   ]
  },
  {
   "cell_type": "markdown",
   "metadata": {},
   "source": [
    "After retrieving the document, we will set up the Chroma database. Since the Chroma Database operates as a vector database, we must initially establish the embedding function.\n",
    "\n",
    "Chroma DB supports various embedding functions. We have the option to utilize either the default embedding function provided by Chroma DB or opt for the OpenAI embedding. For this project, we will utilize the OpenAI embedding function."
   ]
  },
  {
   "cell_type": "code",
   "execution_count": 4,
   "metadata": {},
   "outputs": [],
   "source": [
    "chroma_client = chromadb.PersistentClient(\"./\")"
   ]
  },
  {
   "cell_type": "code",
   "execution_count": 11,
   "metadata": {},
   "outputs": [],
   "source": [
    "# To use the default embedding, you will\n",
    "# need to install \"sentence_transformers\" package \n",
    "# first.\n",
    " \n",
    "sentence_transformer_ef = embedding_functions.SentenceTransformerEmbeddingFunction(model_name=\"all-MiniLM-L6-v2\")"
   ]
  },
  {
   "cell_type": "code",
   "execution_count": 5,
   "metadata": {},
   "outputs": [],
   "source": [
    "# Setting OpenAI variables\n",
    "OPEN_AI_API_KEY = \"OPENAI API KEY\"\n",
    "embedding_model = \"text-embedding-ada-002\"\n",
    "openai_client = openai.OpenAI(api_key=OPEN_AI_API_KEY)\n",
    "\n",
    "# This is OpenAI embedding function\n",
    "openai_ef = embedding_functions.OpenAIEmbeddingFunction(\n",
    "    api_key=OPEN_AI_API_KEY,\n",
    "    model_name=embedding_model,\n",
    ")\n"
   ]
  },
  {
   "cell_type": "markdown",
   "metadata": {},
   "source": [
    "Now we will set the parameters of chroma db and add new data to it. "
   ]
  },
  {
   "cell_type": "code",
   "execution_count": 7,
   "metadata": {},
   "outputs": [],
   "source": [
    "collection = chroma_client.get_or_create_collection(\n",
    "    name=\"Procom_Competitions\", embedding_function=openai_ef\n",
    ")\n",
    "\n",
    "for i, text in enumerate(document):\n",
    "   collection.add(documents = document[i], metadatas=metadata[i], ids=[str(i)])"
   ]
  },
  {
   "cell_type": "code",
   "execution_count": 8,
   "metadata": {},
   "outputs": [
    {
     "data": {
      "text/plain": [
       "[' Hackathon \\n Overview \\n Welcome to the Think Creative Hackathon, a dynamic two-day event dedicated to fostering innovation, \\n problem-solving, and creativity. This competition challenges participants to think critically, collaborate, \\n and present inventive solutions to real-world problems. \\n Rounds \\n The competition consists of a single round distributed throughout two days: \\n ●  Day 1:  Participants will be given a theme and brainstorm  for ideas. \\n ●  Day 2:  Participants will prepare presentations alongside prototypes of their ideas (Just UI on \\n Figma or any other platform), evaluated based on both. \\n Team Formation \\n Each team can have a maximum of 4 members. \\n Rules \\n ●  Internet access will  be allowed throughout the competition  venue. \\n ●  Participants can use any Programming Framework they wish \\n ●  The decision of the Judges will be final. \\n ●  Instructions will be provided using GCR (Google Classroom). \\n ●  Edibles are  strictly pr ohibited  in the competition  venue \\n ●  Any team will  be disqualified  due to any of the reasons  mentioned below \\n ○  Plagiarism \\n ○  Disturbance or misconduct with any invigilator or fellow competitors \\n ●  Teams are  requir ed  to bring the laptops with them to the competition. All required \\n software must be available on the laptop beforehand. \\n ●  The competition will be started on time. All teams are expected to arrive on time or \\n earlier to get a head start on instructions. Strict Punctuality will be observed. \\n ●  The or ganizers reserve the right to modify the rules or competition parameters in case of \\n unforeseen challenges, technical dif ficulties, or circumstances beyond their control. Any \\n changes will be communicated promptly to all participants to ensure fairness and \\n transparency . ',\n",
       " 'ROBO WAR\\n(LIGHT WEIGHT)\\n\\nImagine a cool competition where remote-controlled robots go head-to-head in a battle arena. The teams have to build tough and agile robots that can dish out strong attacks and take hits. The goal is to have the meanest offense, solid defense, and speedy moves. Matches either have a time limit or end when a robot is knocked out or chosen as the winner by judges. These events have become popular because people love watching robots duke it out in a high-tech arena. In this context, a \"Robot\" can mean a combat robot.\\n\\nFixtures:\\n Once the matchups have been announced, the organizers will create fixtures that include the date, time, and location of each match. These fixtures will be communicated to all teams in advance, and any changes will be communicated promptly. By following these guidelines, the competition organizers can ensure that the matchups are fair, and all teams have an equal opportunity to compete. Additionally, teams will be able to plan and prepare for their matches in advance, which will promote a high level of competition throughout the tournament.\\n\\nRobot Specifications:\\n • The robot should fit in a dimension 18inch x 18inch x 18inch (LxBxH) when at rest position \\n• The weight of the robot should not exceed 5 kg. (with all batteries, weapons etc loaded) \\n• The robot may fold and unfold itself to follow the dimension rules. \\n• The robot must use an only onboard power supply. \\n• No external off-board power supply is allowed. \\n• Each team shall prepare its own power supply for all its machines. \\n• The robot can take power from a DC source with a rating, not more than 48 volts. Only dry type sealed batteries are allowed i.e. Li-Poly, Ni-MH, Li-ion, and other maintenance-free sealed packed batteries. \\n• Human operators are not permitted to enter the Court once the competition has started. They need to operate the robot from outside the court using their remote controls. \\n• The teams can use ready-made microcontroller boards/ready-made sensor kits. \\n• Weapons must remain connected to the machine at all times during operation.\\n• Any weapon that can pose an injury risk to the spectators is not allowed e.g. loosely fitted spinning weapons etc. The teams which use such a robot will be asked to remove such a weapon before the contest. If they fail to remove the weapon, the team will be disqualified. \\n\\nGame Rules:\\n• The objective is to damage, destroy, flip upside down.\\n• If your robot is stuck in the difficulties or unable to move itself from its position it will be considered a timeout. Max 2 timeouts are available for 2 mint a robot, after 2 timeouts it will be considered a knockout. \\n• Unless a Match terminates early, the Match will last for 5 minutes of fighting time. The time limit does not include any time elapsed as a result of Timeouts. The teams with maximum points will win the round. \\n• If the robot is disabled or cannot move it will be considered a time out from the match. \\n• If the robot is pushed by the opponent out of the arena & cannot move itself inside itself move it will be considered a time out from the match.\\n• If at any time during a Match, a Robot or Multi-Bot Segment becomes Stuck on the Arena floor, and cannot free itself after 20 seconds, the Referees can call a Timeout \\n\\nPoint distribution:\\n Point scoring is shown in the table below: \\nDamaged any part of an opponent robot 10 points \\nDisabled the opponent robot (timeout taken by opponent) 15 points \\n\\nDamage:\\nDamage will only be counted for visible parts of the robot that are damaged or torn out. Scratches or superficial marks will not be counted as damage. However, any part of the robot such as metal or sheet that is taken out of the robot will be counted as damage. Additionally, any damage caused to the robot\\'s functions such as weapons, motors, or wheels will also be considered as damage. The judges will assess the damage at the end of the match. \\n\\nOverweight robots:\\nRobots weighing more than 5kg will incur a penalty of 01 points per 0.1kg for any additional weight. For example, a robot weighing 5.2kg will have 2 points deducted from its score. If a robot\\'s weight exceeds 6 kg, it will be disqualified from the competition. \\nThe disqualified robot may be allowed to reduce its weight within a given time frame, failing which it will not be allowed to participate further. It is the responsibility of the team to ensure that their robot meets the weight requirements and that any modifications made during the competition do not cause the robot to exceed the weight limit. The weighing of the robots will be done before the start of the competition, and the weight limit will be strictly enforced. \\n\\nWEAPONS:\\n• All pyrotechnics; explosives, flames, firearms, corrosives, liquids, electronic devices e.g., radio jamming, heat-guns, Tesla coils - are banned. \\n• Small, non-offensive pyrotechnics - e.g., flash puffs - May be allowed at the judge’s discretion. \\n• Tethered projectiles are allowed, but the tether may not exceed 0.381m (approx. 15inch) in length, (measured from the center of the robot to the tip of the projectile). \\n• The circular saws, carbon or steel cutting discs can be used. \\n• Commercial blades - e.g., bayonets - must not exceed 2Ocm/8inches in length.\\n• All sharp edges of weapons, including fixed weapons - e.g., spikes -and robot bodywork in general that is sharp, MUST be fitted with adequate protection that must be in place at all times except in the arena. (These guards are not included with the overall weight of the robot). \\n\\nFORBIDDEN WEAPONS:\\n• Untethered projectiles are not allowed. \\n• Heat and fire weapons are NOT allowed \\n• Flammable liquids or gases. \\n• Explosives or flammable solids such as: DOT Class C devices \\n• Gunpowder / Cartridge Primers \\n• Military Explosives, etc. \\n• Light and smoke-based weapons that impair the viewing of robots by an Entrant, Judge, Official or Viewer. \\n• Smoke or dust weapons \\n• Lights such as external lasers above ‘class I’ and bright strobe lights which may blind the opponent \\n• Hazardous or dangerous materials are forbidden from use anywhere on a robot where they may contact humans, or by way of the robot being damaged (within reason) contact humans. \\n• Entangling weapons are NOT allowed at this event. \\n• Liquid weapons are NOT allowed at this event. \\n• Powdered material or chaff weapons are NOT allowed at this event. \\n\\nPOWER SUPPLY:\\n• The robot must not have any wired connections with its surroundings. \\n• Voltage of the machine’s electrical power source must not exceed 48-volt DC. \\n• Power sources that are considered dangerous or unsuitable by the contest Officials shall not be permitted. \\n• All efforts must be made to protect battery terminals from a direct short and causing a battery fire. \\n• All Robots must have a light, easily visible from the outside of the robot hat shows its main power is activated. \\n\\nGeneral Guidelines:\\nRobot Requirements: Each participating robot must adhere to the specifications outlined in the competition rules, including weight, size, and functionality. \\nSafety: Safety must be a top priority throughout the competition. All robots and equipment must meet safety requirements, and all participants must wear appropriate safety gear. \\nConduct: All participants must maintain a high level of professionalism and respect for one another. This includes avoiding unsportsmanlike behavior, such as taunting, jeering, or gloating. \\nDiscipline: All participants must follow the rules and guidelines set forth by the competition organizers. Failure to do so may result in penalties or disqualification. \\nSportsmanship: Good sportsmanship is expected of all participants, including congratulating opponents after a match, offering assistance if needed, and displaying positive attitudes throughout the competition. \\nJudging: Judges will evaluate the robots based on a predetermined set of criteria, and their decisions will be final. Participants must respect the judges\\' decisions and refrain from arguing or disputing their rulings. \\nMaintenance: Participants must ensure their robots are in good working order throughout the competition, including regular maintenance and repairs as needed. \\nBy following these rules, participants can ensure a fair, safe, and respectful competition that promotes robotics innovation and collaboration.\\n',\n",
       " \" UI / UX Competition \\n Overview \\n Attention pixel pushers and interaction architects! Are you ready to conquer this UI/UX \\n competition and leave the judges speechless? Prepare to witness design mastery and user \\n experiences that sing. Buckle up, it's about to get creative! \\n Rounds \\n This competition consists of 2 Rounds: \\n Round 1: Participants will be provided with an already designed application UI and asked to \\n improve upon it. This round will last 60 minutes. \\n Round 2: Participants will be asked to create a responsive web app completely from scratch. The \\n software used will be Figma. (Coding is not a part of this). The round will last 90 minutes. \\n Team Formation \\n A team will have a maximum of 2 members. \\n Rules \\n ●  Internet access will  be allowed throughout the competition  venue (  ONL Y  for syncing \\n files and assets). \\n ●  Mobile usage is strictly  prohibited \\n ●  Collaborating with other groups in any sort of way will lead to  disqualification \\n ●  Equipment, other than that provided, is  NOT  allowed  during the competition. \\n ●  Participants can  ONL Y  use Figma. \\n ●  The decision of the Judges will be final. \\n ●  Instructions will be provided using GCR (Google Classroom). \\n ●  Submissions will be taken via GCR (Google Classroom). \\n ●  Edibles are  strictly pr ohibited  in the competition  venue \\n ●  Any team will  be disqualified  due to any of the reasons  mentioned below \\n ○  Plagiarism \\n ○  Usage of the internet (other than for the mentioned purpose) during the \\n competition. \\n ○  Disturbance or misconduct with any invigilator or fellow competitors \\n ●  Teams are  NOT  required to bring the laptops with them  to the competition. PCs will be \\n provided at the venue.  ●  The competition will be started on time. All teams are expected to arrive on time or \\n earlier to get a head start on instructions. Strict Punctuality will be observed. \\n ●  The or ganizers reserve the right to modify the rules or competition parameters in case of \\n unforeseen challenges, technical dif ficulties, or circumstances beyond their control. Any \\n changes will be communicated promptly to all participants to ensure fairness and \\n transparency . \",\n",
       " \" Pseudo War \\n Overview \\n It's  a  competition  where  teams  use  their  clever  thinking  to  create  step-by-step  plans  called \\n pseudo  codes  for  solving  problems.  The  catch?  They  need  to  make  sure  their  plans  are  efficient, \\n considering  how  much  time  and  space  they  use.  No  actual  coding  required—just  smart  ideas  on \\n how  to  solve  the  challenges.  The  team  that  comes  up  with  the  clearest  and  most  effective  pseudo \\n codes wins the battle. Get ready for a fun challenge that's all about smart problem-solving! \\n Rounds \\n There  will  be  two  rounds.  Both  rounds  will  be  played  for  two  hours.  Round  1  is  the  qualifier \\n round.  Both  rounds  involve  problem-solving  skills  and  are  conducted  on  paper  on-site.  Teams \\n will  be  judged  on  more  optimized  solutions  and  in  case  of  ties,  the  team  having  earlier \\n submission will be considered the winner . \\n Team Formation \\n Each team can have a maximum of 3 members. \\n Rules \\n ●  Internet access will  NOT  be allowed throughout the  competition venue. \\n ●  Mobile usage is strictly  prohibited \\n ●  Collaborating with other groups in any sort of way will lead to  disqualification \\n ●  Equipment, other than provided, are  NOT  allowed during  the competition. \\n ●  Submissions will be taken on paper . \\n ●  Edibles are  strictly pr ohibited  in the competition  venue. \\n ●  Any team will  disqualify  due to any of the reasons  mentioned below \\n ○  Plagiarism \\n ○  Usage of the internet during the competition. \\n ○  Disturbance or misconduct with any invigilator or fellow competitors. \\n ●  Teams are  NOT  expected to bring the laptops with them  in the competition. because it is \\n a paper based onsite competition and venue will be  communicated through the mail \\n beforehand. \\n ●  Competition will be started on the stated time. All teams are expected to arrive on time or \\n earlier to get a head start on instructions. \\n ●  The or ganizers reserve the right to modify the rules or competition parameters in the \\n event of unforeseen challenges, technical dif ficulties, or circumstances beyond control. \\n Any changes will be communicated promptly to all participants to ensure fairness and \\n transparency . \",\n",
       " ' Code In The Dark \\n Overview \\n In  Code  in  the  Dark,  participants  take  on  an  exhilarating  task  to  put  their  skills  in  front-end \\n programming  to  the  test:  creating  interfaces  entirely  in  the  dark.  In  order  to  create  pixel-perfect \\n designs,  developers  must  use  only  their  coding  intuition  and  mental  visualization  in  this \\n one-of-a-kind  challenge  that  eliminates  visible  feedback.  The  fundamental  guideline  is \\n straightforward  but  strict:  no  output  previews  are  allowed  while  the  project  is  being \\n implemented. \\n Rounds \\n This competition consists of two rounds \\n Round  1:  Participants  have  to  replicate  a  web  page  (which  will  be  previewed  on  a  projector  at  the \\n start  of  competition  for  once)  using  HTML,CSS  and  Java  Script.  Duration  of  this  Round  is  2 \\n hours. \\n Round  2:  It  consist  of  5  sub  rounds,  sub  round  1  will  be  related  to  HTML,  sub  round  2  will  be \\n related  to  CSS,  sub  round  3  will  be  related  to  Java  Script,  sub  round  4  will  be  related  to  HTML \\n and  CSS  and  sub  round  5  will  be  related  to  HTML,  CSS  and  Java  Script.  Duration  of  each  Sub \\n Round is 15 minutes. \\n We  will  also  provide  hints  in  envelopes  to  the  teams,  red  (HTML),  blue  (CSS)  and  yellow \\n (JavaScript). \\n Team Formation \\n Each team can have a maximum of 3 members. \\n Rules \\n ●  Internet access will  NOT  be allowed throughout the  competition venue. \\n ●  Mobile usage is strictly  prohibited \\n ●  Collaborating with other groups in any sort of way will lead to  disqualification \\n ●  Equipment, other than provided, are  NOT  allowed during  the competition. \\n ●  Language supported for competition are HTML, CSS, Java Script \\n ●  Decision of the Judges will be final. \\n ●  Submissions will be taken using GCR (Google Classroom). \\n ●  Edibles are  strictly pr ohibited  in the competition  venue \\n ●  IDE provided by the or ganizing team is allowed only , any team using any other IDE will \\n be  disqualified  .  ●  Any team will  disqualify  due to any of the reasons mentioned below \\n ○  Plagiarism \\n ○  Usage of internet during the competition \\n ○  Disturbance or misconduct with any invigilator or fellow competitors \\n ●  Teams are  NOT  expected to bring the laptops with them  in the competition because PCs \\n will be provided in the lab venue, communicated through the mail beforehand. \\n ●  Competition will be started on the stated time. All teams are expected to arrive on time or \\n earlier to get a head start on instructions. \\n ●  The or ganizers reserve the right to modify the rules or competition parameters in the \\n event of unforeseen challenges, technical dif ficulties, or circumstances beyond control. \\n Any changes will be communicated promptly to all participants to ensure fairness and \\n transparency . ',\n",
       " \" Database Design \\n Overview \\n This  competition  is  designed  to  challenge  students'  skills  in  creating  efficient  and  effective \\n database  designs.  Participants  will  tackle  real-world  scenarios,  showcasing  their  ability  to  model \\n data, normalize databases, and implement solutions using SQL. \\n Rounds \\n This competition consists of two rounds. \\n Round  1:  Database  Design,  Participants  receive  a  scenario.  They  create  an  ERD,  relational \\n schema, and normalize the database up to 3NF . \\n Round  2:  DDL  and  DML  Implementation,  Participants  are  presented  with  a  complex  scenario. \\n They  write  DDL,  DML  and  PL\\\\SQL  statements  to  implement  the  database  structure  and  perform \\n required operations. \\n Team Formation \\n Each team can have a maximum of 3 members. \\n Rules \\n ●  Internet is allowed, but only for  Competition T ools  . \\n ●  Mobile usage is strictly  prohibited. \\n ●  Collaborating with other groups in any sort of way will lead to  disqualification. \\n ●  Equipment, other than provided, are  NOT  allowed during  the competition. \\n ●  Tools supported for each round: \\n ○  Round 1 -  Only  Drawio  or  SmartDraw \\n ○  Round 2 -  Only  Oracle SQL developer or My SQL. \\n ●  Decision of the Judges will be final. \\n ●  Submissions will be taken using GCR (Google Classroom). \\n ●  Edibles are  strictly pr ohibited  in the competition  venue. \\n ●  Any team will  disqualify  due to any of the reasons  mentioned below: \\n ○  Plagiarism \\n ○  Usage of internet during the competition (Except the websites recommended to \\n use) \\n ○  Disturbance or misconduct with any invigilator or fellow competitors \\n ●  Teams are  NOT  expected to bring the laptops with them  in the competition because PCs \\n will be provided in the lab venue, communicated through the mail beforehand.  ●  Competition will be started on the stated time. All teams are expected to arrive on time or \\n earlier to get a head start on instructions. \\n ●  The or ganizers reserve the right to modify the rules or competition parameters in the \\n event of unforeseen challenges, technical dif ficulties, or circumstances beyond control. \\n Any changes will be communicated promptly to all participants to ensure fairness and \\n transparency . \",\n",
       " \" Code Sprint \\n Overview \\n In  this  fast-paced  competition,  teams  race  against  the  clock  to  solve  coding  challenges  as  quickly \\n as  possible.  The  goal  is  to  be  the  first  team  to  successfully  tackle  all  the  challenges  within  the \\n given  time  frame.  It's  a  test  of  speed,  problem-solving  skills,  and  teamwork.  The  team  that \\n efficiently  cracks  the  code  and  completes  all  challenges  in  the  shortest  time  emer ges  as  the \\n victorious  sprinter  in  this  coding  marathon.  Get  ready  for  an  adrenaline-fueled  coding \\n experience! \\n Rounds \\n The competition consists of 5 rounds: \\n In  each  round,  the  teams  will  be  given  3-4  problems  and  will  be  given  1  hour  to  solve  those \\n problems. Bottom 20% of the teams will be disqualified in each successive round. \\n Each  round  will  have  increasing  difficulty  of  problems.  Teams  can  submit  partial  solutions  which \\n will award them partial scores. \\n Team Formation \\n Each team can have a maximum of 3 members. \\n Rules \\n ●  Internet  access  will  be  allowed  throughout  the  competition  venue  for  the  submission  of \\n codes. \\n ●  Teams found using Chat GPT , Google Bard or any other websites will be  disqualified. \\n ●  Mobile usage is strictly  prohibited. \\n ●  Collaborating with other groups in any sort of way will lead to  disqualification. \\n ●  Languages supported for competition are C/C++ , Python and Java. \\n ●  Partial submissions are allowed. \\n ●  Vjudge  will be used for the competition. \\n ●  Edibles are  strictly pr ohibited  in the competition  venue. \\n ●  Any team will  disqualify  due to any of the reasons  mentioned below: \\n ○  Plagiarism \\n ○  Usage of internet during the competition (except Vjudge) \\n ○  Disturbance or misconduct with any invigilator or fellow competitors \\n ●  Teams  are  NOT  expected  to  bring  the  laptops  with  them  in  the  competition  because  PCs \\n will be provided in the lab venue, communicated through the mail beforehand.  ●  Competition  will  be  started  on  the  stated  time.  All  teams  are  expected  to  arrive  on  time  or \\n earlier to get a head start on instructions. \\n ●  The  organizers  reserve  the  right  to  modify  the  rules  or  competition  parameters  in  the \\n event  of  unforeseen  challenges,  technical  difficulties,  or  circumstances  beyond  control. \\n Any  changes  will  be  communicated  promptly  to  all  participants  to  ensure  fairness  and \\n transparency . \",\n",
       " \"LFR COMPETITION\\n\\nCompetition overview:\\n Welcome to the exhilarating world of LFR Competition, brought to you by PROCOM 24! Step into the arena where your entry, progression, and speed revelation define your journey through this thrilling event. Experience the pulse-pounding excitement of high speeds, precision turns, and electrifying collisions as our hot wheels robots compete on the track. LFR is not just a race; it's a platform to assess the efficiency, power, and programming prowess of your robotic creations. Get ready to unleash the potential of your robots and showcase their capabilities in this adrenaline-fueled spectacle.\\n\\nMembers per Team: \\n2 to 4 members per Team. \\n\\nRobots Specifications: \\n1. The robot should be fully autonomous and should not have any human interference. \\n2. Maximum measures of the robot should be 12 x 12 x 12 inch (L x W x H) and the maximum weight should be 1 kg.\\n 3. A robot must not damage the arena and not pose danger to other participants and the spectators. \\n4. Using voltages greater than 12Volts in the robot is prohibited.\\n 5. A robot must have a start and stop button(s).\\n 6. A robot must not contain any flammable or hazardous material other than the battery.\\n 7. Except for the battery pack, the handler shall not make any addition, removal, replacement or change to the hardware of the robot during the contest. \\n8. The robot must be battery-powered. And must contain an onboard power supply.\\n 9. Power sources that are considered dangerous or unsuitable by the contest Officials shall not be permitted.\\n\\n Examination of Robot: \\nIt is mandatory for all participating teams to get their robots examined & Team must present their programmed code to judges and organizers before the start of competition at allotted time slots.\\n\\nGame Rules & Track Specs: \\n1. Each team should be present at the arena venue at their allocated time. Failure to do so will result in disqualification\\n2. There would be a total of two rounds in this event. \\n3. The 1st round it is an elimination round. \\n4. The 2nd round it will be the final round \\n5. In first round, 50% of the top scoring teams will qualify for the next round.\\n6. The robot completes the task will be declared as the winner. \\n7. In 1st round the team can call for a maximum of 2 restarts at the starting point keeping that in mind that the there is a addition of 5 seconds on each restart in the total time.\\n8. The line would be of black color on a white non-glossy background. \\n9. Lines with dead ends shall be indicated by red/black color. \\n10. The line width would be share to you soon. \\n11. There could be empty space between lines or there could be some broken lines. \\n\\nGeneral Rules: \\n1. Team name should be decent and should not target any wrong meaning. \\n2. The Contest judges may stop any robot at any time if they feel that it is performing, or is about to perform, any action that is dangerous or hazardous to people or equipment. \\n3. In all matters of interpreting the rules before and during the Contest and in any issues not covered by these rules, the decisions of the Contest Judging Committee will be final. \\n4. Team must bring their own Battery charging system \\n5. If any robot found attempting to damage the game field will be disqualified. \\n6. Performing any act that fails to comply with the spirit of Fair Play \\n7. The only team with their turn is allowed in the Arena, another team should be outside the arena until and unless their turn comes. \\n8. No talking to judges in the arena & it is forbidden to see results at the end of any round. \\n9. Taking pictures of the track is not allowed by the team because details of the track will be shared. \\n10. Robot batteries must be fully charged before competition & Competition will not be Delayed if robot batteries are discharged, Team will be knockout in this circumstance \\n11. Organizers would not be responsible for any loss during competition, Teams must run robots at their own risk \\n12. Moreover, any attempt to exploit the above-given rules in lie of bad behavior will disqualify such a team upon the decision of the administration of the event. \\n13. Competition head coordinator has the right to disqualify any team in any harm case (Misbehaving with organizers etc.) \\n14. The organizers reserve the rights to change any or all of the above rules as they deem fit\\n\",\n",
       " \" Competitive Programming \\n Overview \\n In  this  exciting  competition,  teams  need  to  implement  solutions  that  effectively  solve  the  given \\n problems  within  the  given  time  and  memory  constraints.  The  questions  are  set  according  to  the \\n rules  of  the  International  Collegiate  Programming  Contest  (ICPC).  Teams  compete  by  coming  up \\n with  smart  and  efficient  solutions  using  suitable  data  structures  and  algorithms,  as  quickly  as \\n possible.  It's  a  fun  and  challenging  adventure  where  teams  use  strategic  thinking  and  coding \\n skills to succeed in competitive Programming. \\n Rounds \\n The competition consists of two rounds \\n Round  1:  This  round  will  consist  of  6-7  problems  and  teams  have  a  time  limit  of  3  hours  to \\n complete these challenges. T op 50% of teams will qualify for Round 2. \\n Round  2:  This  round  will  consist  of  10-11  problems  with  a  time  limit  of  5  hours  to  complete \\n these challenges. \\n Each round will have increasing dif ficulty of problems. T eams can not do partial submissions. \\n Team Formation \\n Each team can have a maximum of 3 members. \\n Rules \\n ●  Internet  access  will  be  allowed  throughout  the  competition  venue  for  the  submission  of \\n codes. \\n ●  Teams found using Chat GPT , Google Bard or any other websites will be  disqualified. \\n ●  Mobile usage is strictly  prohibited. \\n ●  Collaborating with other groups in any sort of way will lead to  disqualification. \\n ●  Languages supported for competition are C/C++ , Python and Java. \\n ●  Partial submissions are  NOT  awarded any points. \\n ●  Vjudge  online platform will be used for the competition. \\n ●  Edibles are  strictly pr ohibited  in the competition  venue. \\n ●  Any team will  be disqualified  due to any of the reasons  mentioned below . \\n ○  Plagiarism \\n ○  Usage of internet during the competition (except Vjudge) \\n ○  Disturbance or misconduct with any invigilator or fellow competitors  ●  Teams  are  NOT  expected  to  bring  the  laptops  with  them  in  the  competition  because  PCs \\n will be provided in the lab venue, communicated through the mail beforehand. \\n ●  Competition  will  be  started  on  the  stated  time.  All  teams  are  expected  to  arrive  on  time  or \\n earlier to get a head start on instructions. \\n ●  The  organizers  reserve  the  right  to  modify  the  rules  or  competition  parameters  in  the \\n event  of  unforeseen  challenges,  technical  difficulties,  or  circumstances  beyond  control. \\n Any  changes  will  be  communicated  promptly  to  all  participants  to  ensure  fairness  and \\n transparency . \",\n",
       " \" Speed Debugging \\n Overview \\n In  this  thrilling  competition,  teams  will  put  their  debugging  skills  to  the  test  as  they  race  against \\n the  clock  to  identify  and  fix  bugs  in  various  code  snippets.  The  bugs  could  be  of  different  types, \\n including  logical  errors,  memory  management  issues,  and  runtime  errors.  Teams  will  need  to \\n showcase  their  expertise  in  quickly  identifying  and  rectifying  these  bugs  to  ensure  the  smooth \\n and  efficient  functioning  of  the  code.  It's  a  challenge  that  combines  problem-solving  acumen \\n with  the  need  for  swift  and  accurate  debugging.  The  team  that  demonstrates  the  quickest  and \\n most  effective  bug-squashing  abilities  will  emer ge  as  the  ultimate  speed  debugger!  Get  ready  for \\n a high-paced coding adventure  . \\n Rounds \\n The competition consists of two rounds. \\n Round  1:  It  is  a  paper  based  MCQs  round.  It  will  be  60  -  90  minutes.  Teams  with  more  correct \\n answers will qualify for the next round. Also submission time will also be noted. \\n Round  2:  It  is  a  computer  based  round  where  teams  will  be  given  codes  and  problem  statements \\n and  they  have  to  find  the  logical  bugs  in  the  code  to  make  it  correct  according  to  the  problem \\n statement. \\n Winner will be decided based on time and an ef ficient solution. \\n Team Formation \\n Each team can have a maximum of 3 members. \\n Rules \\n ●  Internet access will  NOT  be allowed throughout the  competition venue. \\n ●  Teams found using Chat GPT , Google Bard or any other websites will be  disqualified. \\n ●  Mobile usage is strictly  prohibited \\n ●  Collaborating with other groups in any sort of way will lead to  disqualification \\n ●  Submissions  will  be  taken  on  paper  for  round  1  and  on  GCR  (Google  Classroom)  for \\n round 2. \\n ●  Edibles are  strictly pr ohibited  in the competition  venue. \\n ●  Any team will  disqualify  due to any of the reasons  mentioned below \\n ○  Plagiarism \\n ○  Usage of the internet during the competition.  ○  Disturbance or misconduct with any invigilator or fellow competitors. \\n ●  Teams  are  NOT  expected  to  bring  the  laptops  with  them  in  the  competition.  because  PCs \\n will be provided in the lab venue, communicated through the mail beforehand. \\n ●  Competition  will  be  started  on  the  stated  time.  All  teams  are  expected  to  arrive  on  time  or \\n earlier to get a head start on instructions. \\n ●  The  organizers  reserve  the  right  to  modify  the  rules  or  competition  parameters  in  the \\n event  of  unforeseen  challenges,  technical  difficulties,  or  circumstances  beyond  control. \\n Any  changes  will  be  communicated  promptly  to  all  participants  to  ensure  fairness  and \\n transparency . \"]"
      ]
     },
     "execution_count": 8,
     "metadata": {},
     "output_type": "execute_result"
    }
   ],
   "source": [
    "# Testing \n",
    "\n",
    "t = collection.query(query_texts = \"events\")\n",
    "t['documents'][0]"
   ]
  },
  {
   "cell_type": "code",
   "execution_count": 9,
   "metadata": {},
   "outputs": [],
   "source": [
    "def get_embedding(text: str, model: str = \"text-embedding-ada-002\") -> List[float]:\n",
    "    text = text.replace(\"\\n\", \" \")\n",
    "    return openai_client.embeddings.create(input=[text], model=model).data[0].embedding\n",
    "\n",
    "\n",
    "def ask_procom_chatbot(user_query: str) -> str:\n",
    "    # Generate an embedded query from user query.\n",
    "    embedded_query = get_embedding(user_query, model=embedding_model)\n",
    "\n",
    "    # Retrieve all relevant data to teh user query\n",
    "    all_relevant_info = collection.query(\n",
    "        query_embeddings=embedded_query,\n",
    "        n_results=1,\n",
    "    )\n",
    "\n",
    "    # Separating and concatenating the retrieved data.\n",
    "    query_set = all_relevant_info[\"documents\"][0]\n",
    "    query_respond = \"\\n\".join(str(item) for item in query_set)\n",
    "\n",
    "    # Send the all info to the chatbot\n",
    "    chatbot_response = ask_openai(user_query, query_respond)\n",
    "    return chatbot_response\n",
    "\n",
    "\n",
    "def ask_openai(user_query: str, query_respond: str) -> str:\n",
    "    system_prompt = f\"\"\"\n",
    "        You are an informative chatbot specifically made for \n",
    "        an event called PROCOM. Your task is to answer user \n",
    "        questions based solely on the provided information. You can not answer the \n",
    "        user query from your knowledge. If the user's query is\n",
    "        within the scope of the provided information, you \n",
    "        will provide an answer. However, if the query is not \n",
    "        relevant to the information provided, you will politely inform the user\n",
    "        that it's out of your knowledge.\n",
    "        Below is the available information:\n",
    "        There are a total of 19 competitions listed below in Procom:\n",
    "        AI Showdown, App Dev, Blockchain Blitz, Chatcraft, Code In The Dark, \n",
    "        Code Sprint, Competitive Programming, CTF, Database Design, Game Dev,\n",
    "        Hackathon, LFR Rules, Psuedo War, ROBO SOCCER Rules, ROBO SUMO Rules, \n",
    "        ROBO WAR(Light Weight) Rules, Speed Debugging, UIUX, and Web Dev.\n",
    "        INFORMATION  \n",
    "        ####\n",
    "        {query_respond}\n",
    "        ####\n",
    "        Your response must be easy for user to understand.\n",
    "    \"\"\"\n",
    "\n",
    "    messages = [\n",
    "        {\"role\": \"system\", \"content\": system_prompt},\n",
    "        {\"role\": \"user\", \"content\": user_query},\n",
    "    ]\n",
    "\n",
    "    response = openai_client.chat.completions.create(\n",
    "        model=\"gpt-3.5-turbo\", messages=messages, temperature=0\n",
    "    )\n",
    "\n",
    "    response_message = response.choices[0].message.content\n",
    "    return response_message"
   ]
  },
  {
   "cell_type": "code",
   "execution_count": 13,
   "metadata": {},
   "outputs": [
    {
     "name": "stdout",
     "output_type": "stream",
     "text": [
      "In the Game Dev competition, the rules include using only four allowed engines (Unity, Godot, Unreal, Pygame), bringing your own laptops, submitting a Github link for your engine, no exact replica games allowed, no inappropriate aesthetics, and addressing technical issues before the event starts. \n",
      "\n",
      "To make a team, you can have a maximum of 5 members. Each team needs to ensure creativity, follow the given theme (2D Roguelike Pixelated), and enhance a half-cooked game provided. Teams will be judged based on their modifications, creativity, and overall game quality in two rounds: The Creative Forge and The Arena of the Legend.\n"
     ]
    }
   ],
   "source": [
    "# user_input = \"How many events are there in Procom? can you name them?\"\n",
    "# user_input = \"Tell me about game dev?\"\n",
    "user_input = \"What are the rules of game dev? and how to make team?\"\n",
    "\n",
    "procom_chatbot_response = ask_procom_chatbot(user_input)\n",
    "print(procom_chatbot_response)"
   ]
  }
 ],
 "metadata": {
  "kernelspec": {
   "display_name": "Python 3",
   "language": "python",
   "name": "python3"
  },
  "language_info": {
   "codemirror_mode": {
    "name": "ipython",
    "version": 3
   },
   "file_extension": ".py",
   "mimetype": "text/x-python",
   "name": "python",
   "nbconvert_exporter": "python",
   "pygments_lexer": "ipython3",
   "version": "3.11.4"
  }
 },
 "nbformat": 4,
 "nbformat_minor": 2
}
